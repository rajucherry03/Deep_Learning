{
  "nbformat": 4,
  "nbformat_minor": 0,
  "metadata": {
    "colab": {
      "provenance": [],
      "authorship_tag": "ABX9TyOSpYDLDIKPi/7QHb3qnZbQ",
      "include_colab_link": true
    },
    "kernelspec": {
      "name": "python3",
      "display_name": "Python 3"
    },
    "language_info": {
      "name": "python"
    }
  },
  "cells": [
    {
      "cell_type": "markdown",
      "metadata": {
        "id": "view-in-github",
        "colab_type": "text"
      },
      "source": [
        "<a href=\"https://colab.research.google.com/github/rajucherry03/Deep_Learning/blob/main/Experiment5.ipynb\" target=\"_parent\"><img src=\"https://colab.research.google.com/assets/colab-badge.svg\" alt=\"Open In Colab\"/></a>"
      ]
    },
    {
      "cell_type": "code",
      "execution_count": null,
      "metadata": {
        "id": "L1s8x65E-Cdx"
      },
      "outputs": [],
      "source": [
        "import numpy as np\n",
        "from tensorflow.keras.datasets import imdb\n",
        "from tensorflow.keras.models import Sequential\n",
        "from tensorflow.keras.layers import Embedding, GRU, LSTM, Dense\n",
        "from tensorflow.keras.preprocessing.sequence import pad_sequences\n",
        "from tensorflow.keras.utils import to_categorical\n",
        "from sklearn.model_selection import train_test_split"
      ]
    },
    {
      "cell_type": "code",
      "source": [
        "#load dataset\n",
        "vocab_size = 10000\n",
        "max_len = 200\n",
        "(X_train,y_train),(X_test,y_test) = imdb.load_data(num_words=vocab_size)"
      ],
      "metadata": {
        "colab": {
          "base_uri": "https://localhost:8080/"
        },
        "id": "6fLFDTzJ-IkN",
        "outputId": "992960ff-cc24-489d-e4fb-6ecdafe7b874"
      },
      "execution_count": null,
      "outputs": [
        {
          "output_type": "stream",
          "name": "stdout",
          "text": [
            "Downloading data from https://storage.googleapis.com/tensorflow/tf-keras-datasets/imdb.npz\n",
            "17464789/17464789 [==============================] - 0s 0us/step\n"
          ]
        }
      ]
    },
    {
      "cell_type": "code",
      "source": [
        "X_train = pad_sequences(X_train,maxlen=max_len)\n",
        "X_test = pad_sequences(X_test,maxlen=max_len)"
      ],
      "metadata": {
        "id": "f8engO9S-mjv"
      },
      "execution_count": null,
      "outputs": []
    },
    {
      "cell_type": "code",
      "source": [
        "y_train = to_categorical(y_train,num_classes=2)\n",
        "y_test = to_categorical(y_test,num_classes=2)"
      ],
      "metadata": {
        "id": "pIoucNNJ-7W1"
      },
      "execution_count": null,
      "outputs": []
    },
    {
      "cell_type": "code",
      "source": [
        "#Split data into training and testing\n",
        "X_train,X_val,y_train,y_val = train_test_split(X_train,y_train,test_size=0.2,random_state=42)"
      ],
      "metadata": {
        "id": "pd4mUwh6-7xm"
      },
      "execution_count": null,
      "outputs": []
    },
    {
      "cell_type": "code",
      "source": [
        "#gated recurrent unit\n",
        "model_gru = Sequential()\n",
        "model_gru.add(Embedding(vocab_size, 128, input_length=max_len))\n",
        "model_gru.add(GRU(64))\n",
        "model_gru.add(Dense(2, activation='softmax'))\n",
        "model_gru.compile(optimizer='adam', loss='categorical_crossentropy', metrics=['accuracy'])"
      ],
      "metadata": {
        "id": "IwnSt8AM_01S"
      },
      "execution_count": null,
      "outputs": []
    },
    {
      "cell_type": "code",
      "source": [
        "#train gru model\n",
        "model_gru.fit(X_train,y_train,validation_data=(X_val,y_val),epochs=3,batch_size=64)"
      ],
      "metadata": {
        "colab": {
          "base_uri": "https://localhost:8080/"
        },
        "id": "W6KGtEfg_04J",
        "outputId": "7999cd1b-501b-4981-ddeb-4ef263e79348"
      },
      "execution_count": null,
      "outputs": [
        {
          "output_type": "stream",
          "name": "stdout",
          "text": [
            "Epoch 1/3\n",
            "313/313 [==============================] - 82s 253ms/step - loss: 0.4379 - accuracy: 0.7865 - val_loss: 0.3343 - val_accuracy: 0.8554\n",
            "Epoch 2/3\n",
            "313/313 [==============================] - 76s 242ms/step - loss: 0.2354 - accuracy: 0.9071 - val_loss: 0.3219 - val_accuracy: 0.8718\n",
            "Epoch 3/3\n",
            "313/313 [==============================] - 73s 232ms/step - loss: 0.1589 - accuracy: 0.9409 - val_loss: 0.3426 - val_accuracy: 0.8662\n"
          ]
        },
        {
          "output_type": "execute_result",
          "data": {
            "text/plain": [
              "<keras.src.callbacks.History at 0x7900c7cfb460>"
            ]
          },
          "metadata": {},
          "execution_count": 9
        }
      ]
    },
    {
      "cell_type": "code",
      "source": [
        "# Evaluate the GRU model\n",
        "gru_loss, gru_accuracy = model_gru.evaluate(X_test, y_test)\n",
        "print(f\"GRU Model - Test Loss: {gru_loss:.4f}, Test Accuracy: {gru_accuracy:.4f}\")\n",
        "\n"
      ],
      "metadata": {
        "colab": {
          "base_uri": "https://localhost:8080/"
        },
        "id": "tySlrLjVBfF2",
        "outputId": "7fa19e0a-8a8a-4753-812b-f256e7756c1e"
      },
      "execution_count": null,
      "outputs": [
        {
          "output_type": "stream",
          "name": "stdout",
          "text": [
            "782/782 [==============================] - 23s 29ms/step - loss: 0.3638 - accuracy: 0.8596\n",
            "GRU Model - Test Loss: 0.3638, Test Accuracy: 0.8596\n"
          ]
        }
      ]
    },
    {
      "cell_type": "code",
      "source": [
        "# Define an LSTM-based model\n",
        "model_lstm = Sequential()\n",
        "model_lstm.add(Embedding(vocab_size, 128, input_length=max_len))\n",
        "model_lstm.add(LSTM(64))\n",
        "model_lstm.add(Dense(2, activation='softmax'))\n",
        "model_lstm.compile(optimizer='adam', loss='categorical_crossentropy', metrics=['accuracy'])\n"
      ],
      "metadata": {
        "id": "g6BjOcWwBfIm"
      },
      "execution_count": null,
      "outputs": []
    },
    {
      "cell_type": "code",
      "source": [
        "# Train the LSTM model\n",
        "model_lstm.fit(X_train, y_train, validation_data=(X_val, y_val), epochs=3, batch_size=64)\n"
      ],
      "metadata": {
        "colab": {
          "base_uri": "https://localhost:8080/"
        },
        "id": "jY9-RH-0_06i",
        "outputId": "7829bade-3ef4-4877-8a54-e882f535381b"
      },
      "execution_count": null,
      "outputs": [
        {
          "output_type": "stream",
          "name": "stdout",
          "text": [
            "Epoch 1/3\n",
            "313/313 [==============================] - 82s 256ms/step - loss: 0.4107 - accuracy: 0.8102 - val_loss: 0.3508 - val_accuracy: 0.8502\n",
            "Epoch 2/3\n",
            "313/313 [==============================] - 79s 251ms/step - loss: 0.2286 - accuracy: 0.9121 - val_loss: 0.3016 - val_accuracy: 0.8806\n",
            "Epoch 3/3\n",
            "313/313 [==============================] - 81s 260ms/step - loss: 0.1481 - accuracy: 0.9453 - val_loss: 0.4022 - val_accuracy: 0.8700\n"
          ]
        },
        {
          "output_type": "execute_result",
          "data": {
            "text/plain": [
              "<keras.src.callbacks.History at 0x7900c8507670>"
            ]
          },
          "metadata": {},
          "execution_count": 12
        }
      ]
    },
    {
      "cell_type": "code",
      "source": [
        "# Evaluate the LSTM model\n",
        "lstm_loss, lstm_accuracy = model_lstm.evaluate(X_test, y_test)\n",
        "print(f\"LSTM Model - Test Loss: {lstm_loss:.4f}, Test Accuracy: {lstm_accuracy:.4f}\")"
      ],
      "metadata": {
        "colab": {
          "base_uri": "https://localhost:8080/"
        },
        "id": "IIxr_2tcCB3w",
        "outputId": "0283eda0-7996-4981-f751-951fe88e546e"
      },
      "execution_count": null,
      "outputs": [
        {
          "output_type": "stream",
          "name": "stdout",
          "text": [
            "782/782 [==============================] - 26s 33ms/step - loss: 0.4283 - accuracy: 0.8602\n",
            "LSTM Model - Test Loss: 0.4283, Test Accuracy: 0.8602\n"
          ]
        }
      ]
    }
  ]
}