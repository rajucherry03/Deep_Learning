{
  "nbformat": 4,
  "nbformat_minor": 0,
  "metadata": {
    "colab": {
      "provenance": [],
      "include_colab_link": true
    },
    "kernelspec": {
      "name": "python3",
      "display_name": "Python 3"
    },
    "language_info": {
      "name": "python"
    }
  },
  "cells": [
    {
      "cell_type": "markdown",
      "metadata": {
        "id": "view-in-github",
        "colab_type": "text"
      },
      "source": [
        "<a href=\"https://colab.research.google.com/github/rajucherry03/Deep_Learning/blob/main/Exp4.ipynb\" target=\"_parent\"><img src=\"https://colab.research.google.com/assets/colab-badge.svg\" alt=\"Open In Colab\"/></a>"
      ]
    },
    {
      "cell_type": "code",
      "execution_count": null,
      "metadata": {
        "colab": {
          "base_uri": "https://localhost:8080/"
        },
        "id": "PQ1QlFvG381p",
        "outputId": "ef27c601-a432-42aa-e4ef-dc598a50492f"
      },
      "outputs": [
        {
          "output_type": "stream",
          "name": "stdout",
          "text": [
            "Epoch 0, Loss: 0.14189301641622787\n",
            "Epoch 1000, Loss: 0.11708775136093146\n",
            "Epoch 2000, Loss: 0.08719457540477422\n",
            "Epoch 3000, Loss: 0.03727735798537114\n",
            "Epoch 4000, Loss: 0.011050029718717724\n",
            "Epoch 5000, Loss: 0.005225320539718813\n",
            "Epoch 6000, Loss: 0.0032101726985920664\n",
            "Epoch 7000, Loss: 0.0022564071840754005\n",
            "Epoch 8000, Loss: 0.0017162425370534024\n",
            "Epoch 9000, Loss: 0.0013738507823981261\n",
            "\n",
            "Predicted Output after Training:\n",
            "[[0.05368321]\n",
            " [0.95475811]\n",
            " [0.95479011]\n",
            " [0.04630238]]\n"
          ]
        }
      ],
      "source": [
        "import numpy as np\n",
        "def sigmoid(x):\n",
        " return 1 / (1 + np.exp(-x))\n",
        "def sigmoid_derivative(x):\n",
        " return x * (1 - x)\n",
        "# Define the architecture of the neural network\n",
        "input_size = 2\n",
        "hidden_size = 3\n",
        "output_size = 1\n",
        "learning_rate = 0.1\n",
        "# Initialize weights and biases\n",
        "weights_input_hidden = np.random.rand(input_size, hidden_size)\n",
        "biases_hidden = np.zeros((1, hidden_size))\n",
        "weights_hidden_output = np.random.rand(hidden_size, output_size)\n",
        "biases_output = np.zeros((1, output_size))\n",
        "X = np.array([[0, 0],[0, 1],[1, 0],[1, 1]])\n",
        "y = np.array([[0],[1],[1],[0]])\n",
        "epochs = 10000\n",
        "for epoch in range(epochs):\n",
        " # Forward pass\n",
        " hidden_layer_input = np.dot(X, weights_input_hidden) + biases_hidden\n",
        " hidden_layer_output = sigmoid(hidden_layer_input)\n",
        " output_layer_input = np.dot(hidden_layer_output, weights_hidden_output) + biases_output\n",
        " predicted_output = sigmoid(output_layer_input)\n",
        " # Calculate loss\n",
        " loss = 0.5 * np.mean((y - predicted_output) ** 2)\n",
        " # Backward pass (Backpropagation)\n",
        " output_error = y - predicted_output\n",
        " output_delta = output_error * sigmoid_derivative(predicted_output)\n",
        " hidden_layer_error = output_delta.dot(weights_hidden_output.T)\n",
        " hidden_layer_delta = hidden_layer_error * sigmoid_derivative(hidden_layer_output)\n",
        " # Update weights and biases\n",
        " weights_hidden_output += hidden_layer_output.T.dot(output_delta) * learning_rate\n",
        " biases_output += np.sum(output_delta, axis=0, keepdims=True) * learning_rate\n",
        " weights_input_hidden += X.T.dot(hidden_layer_delta) * learning_rate\n",
        " biases_hidden += np.sum(hidden_layer_delta, axis=0, keepdims=True) * learning_rate\n",
        " # Print the loss every 1000 epochs\n",
        " if epoch % 1000 == 0:\n",
        "  print(f\"Epoch {epoch}, Loss: {loss}\")\n",
        "# Test the trained neural network\n",
        "test_input = np.array([[0, 0],[0, 1],[1, 0], [1, 1]])\n",
        "hidden_layer_input_test = np.dot(test_input, weights_input_hidden) + biases_hidden\n",
        "hidden_layer_output_test = sigmoid(hidden_layer_input_test)\n",
        "output_layer_input_test = np.dot(hidden_layer_output_test, weights_hidden_output) + biases_output\n",
        "predicted_output_test = sigmoid(output_layer_input_test)\n",
        "print(\"\\nPredicted Output after Training:\")\n",
        "print(predicted_output_test)"
      ]
    },
    {
      "cell_type": "code",
      "source": [
        "import numpy as np\n",
        "def sigmoid(x):\n",
        " return 1 / (1 + np.exp(-x))\n",
        "def sigmoid_derivative(x):\n",
        " return x * (1 - x)\n",
        "# Define the architecture of the neural network\n",
        "input_size = 2\n",
        "hidden_size = 3\n",
        "output_size = 1\n",
        "learning_rate = 0.1\n",
        "weights_input_hidden = np.random.rand(input_size, hidden_size)\n",
        "biases_hidden = np.zeros((1, hidden_size))\n",
        "weights_hidden_output = np.random.rand(hidden_size, output_size)\n",
        "biases_output = np.zeros((1, output_size))\n",
        "# Input data\n",
        "X = np.array([[0, 0],\n",
        " [0, 1],\n",
        " [1, 0],\n",
        " [1, 1]])\n",
        "y = np.array([[0],\n",
        " [1],\n",
        " [1],\n",
        " [0]])\n",
        "# Training the neural network using backpropagation\n",
        "epochs = 10000\n",
        "for epoch in range(epochs):\n",
        " # Forward pass\n",
        " hidden_layer_input = np.dot(X, weights_input_hidden) + biases_hidden\n",
        " hidden_layer_output = sigmoid(hidden_layer_input)\n",
        " output_layer_input = np.dot(hidden_layer_output, weights_hidden_output) + biases_output\n",
        " predicted_output = sigmoid(output_layer_input)\n",
        " # Calculate loss\n",
        " loss = 0.5 * np.mean((y - predicted_output) ** 2)\n",
        " output_error = y - predicted_output\n",
        " output_delta = output_error * sigmoid_derivative(predicted_output)\n",
        " hidden_layer_error = output_delta.dot(weights_hidden_output.T)\n",
        " hidden_layer_delta = hidden_layer_error * sigmoid_derivative(hidden_layer_output)\n",
        " # Update weights and biases\n",
        " weights_hidden_output += hidden_layer_output.T.dot(output_delta) * learning_rate\n",
        " biases_output += np.sum(output_delta, axis=0, keepdims=True) * learning_rate\n",
        " weights_input_hidden += X.T.dot(hidden_layer_delta) * learning_rate\n",
        " biases_hidden += np.sum(hidden_layer_delta, axis=0, keepdims=True) * learning_rate\n",
        " # Print the loss every 1000 epochs\n",
        " if epoch % 1000 == 0:\n",
        "  print(f\"Epoch {epoch}, Loss: {loss}\")\n",
        "# Test the trained neural network\n",
        "test_input = np.array([[0, 0],\n",
        " [0, 1],\n",
        " [1, 0],\n",
        " [1, 1]])\n",
        "hidden_layer_input_test = np.dot(test_input, weights_input_hidden) + biases_hidden\n",
        "hidden_layer_output_test = sigmoid(hidden_layer_input_test)\n",
        "output_layer_input_test = np.dot(hidden_layer_output_test, weights_hidden_output) +biases_output\n",
        "predicted_output_test = sigmoid(output_layer_input_test)\n",
        "print(\"\\nPredicted Output after Training:\")\n",
        "print(predicted_output_test)\n",
        "\n"
      ],
      "metadata": {
        "colab": {
          "base_uri": "https://localhost:8080/"
        },
        "id": "VfwvfhmCBjqr",
        "outputId": "53c5bd4a-0e6b-4b50-a7f8-31e69a9b9afc"
      },
      "execution_count": null,
      "outputs": [
        {
          "output_type": "stream",
          "name": "stdout",
          "text": [
            "Epoch 0, Loss: 0.15540808520444144\n",
            "Epoch 1000, Loss: 0.12353392061714871\n",
            "Epoch 2000, Loss: 0.1108062018968815\n",
            "Epoch 3000, Loss: 0.07719921788564475\n",
            "Epoch 4000, Loss: 0.028428893186018156\n",
            "Epoch 5000, Loss: 0.009163914646135524\n",
            "Epoch 6000, Loss: 0.0046241395519966266\n",
            "Epoch 7000, Loss: 0.0029385556921081813\n",
            "Epoch 8000, Loss: 0.002106450447491864\n",
            "Epoch 9000, Loss: 0.0016225067340358151\n",
            "\n",
            "Predicted Output after Training:\n",
            "[[0.05713383]\n",
            " [0.95153061]\n",
            " [0.95146887]\n",
            " [0.05012547]]\n"
          ]
        }
      ]
    },
    {
      "cell_type": "code",
      "source": [
        "import tensorflow as tf\n",
        "import keras\n",
        "from tensorflow.keras import datasets,layers,models\n",
        "(x_train,y_train),(x_test,y_test)=datasets.cifar10.load_data()\n",
        "x_train.shape\n",
        "y_train[:4]\n",
        "classes = [\"airplane\",\"automobile\",\"bird\",\"cat\",\"deer\",\"dog\",\"frog\",\"horse\",\"ship\",\"truck\"]"
      ],
      "metadata": {
        "id": "brZ2yMfJJZq7"
      },
      "execution_count": null,
      "outputs": []
    },
    {
      "cell_type": "code",
      "source": [
        "import matplotlib.pyplot as plt\n",
        "def plot(x,y,index):\n",
        "  plt.figure(figsize=(15,2))\n",
        "  plt.imshow(x[index])\n",
        "  plt.xlabel(y[index])"
      ],
      "metadata": {
        "id": "HIT5w9g1JtAC"
      },
      "execution_count": null,
      "outputs": []
    },
    {
      "cell_type": "code",
      "source": [
        "plot(x_train,y_train,2000)"
      ],
      "metadata": {
        "colab": {
          "base_uri": "https://localhost:8080/",
          "height": 292
        },
        "id": "KQLSl8eMJx0Q",
        "outputId": "d93ae677-4877-494a-8e82-f2cb2f52f2d7"
      },
      "execution_count": null,
      "outputs": [
        {
          "output_type": "stream",
          "name": "stderr",
          "text": [
            "/usr/local/lib/python3.10/dist-packages/matplotlib/text.py:1279: FutureWarning: elementwise comparison failed; returning scalar instead, but in the future will perform elementwise comparison\n",
            "  if s != self._text:\n"
          ]
        },
        {
          "output_type": "display_data",
          "data": {
            "text/plain": [
              "<Figure size 1500x200 with 1 Axes>"
            ],
            "image/png": "[encoded data removed]"
          },
          "metadata": {}
        }
      ]
    }
  ]
}