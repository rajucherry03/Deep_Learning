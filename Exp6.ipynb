{
  "nbformat": 4,
  "nbformat_minor": 0,
  "metadata": {
    "colab": {
      "provenance": [],
      "authorship_tag": "ABX9TyMv39NazWC8pg6Obc9B+FvE",
      "include_colab_link": true
    },
    "kernelspec": {
      "name": "python3",
      "display_name": "Python 3"
    },
    "language_info": {
      "name": "python"
    }
  },
  "cells": [
    {
      "cell_type": "markdown",
      "metadata": {
        "id": "view-in-github",
        "colab_type": "text"
      },
      "source": [
        "<a href=\"https://colab.research.google.com/github/rajucherry03/Deep_Learning/blob/main/Exp6.ipynb\" target=\"_parent\"><img src=\"https://colab.research.google.com/assets/colab-badge.svg\" alt=\"Open In Colab\"/></a>"
      ]
    },
    {
      "cell_type": "code",
      "execution_count": 1,
      "metadata": {
        "id": "JapALSBj6cv0"
      },
      "outputs": [],
      "source": [
        "import numpy as np\n",
        "from tensorflow.keras.datasets import reuters\n",
        "from tensorflow.keras.models import Sequential\n",
        "from tensorflow.keras.layers import Dense, Embedding, LSTM\n",
        "from tensorflow.keras.preprocessing.sequence import pad_sequences\n",
        "from tensorflow.keras.utils import to_categorical\n",
        "from sklearn.model_selection import train_test_split\n"
      ]
    },
    {
      "cell_type": "code",
      "source": [
        "#load dataset\n",
        "max_words=10000\n",
        "(X_train,y_train),(X_test,y_test)=reuters.load_data(num_words=max_words,test_split=0.2)"
      ],
      "metadata": {
        "colab": {
          "base_uri": "https://localhost:8080/"
        },
        "id": "0T7fjuZY6nSp",
        "outputId": "153d6d3d-da24-4cc2-f46c-a01a9ae8be2e"
      },
      "execution_count": 2,
      "outputs": [
        {
          "output_type": "stream",
          "name": "stdout",
          "text": [
            "Downloading data from https://storage.googleapis.com/tensorflow/tf-keras-datasets/reuters.npz\n",
            "2110848/2110848 [==============================] - 0s 0us/step\n"
          ]
        }
      ]
    },
    {
      "cell_type": "code",
      "source": [
        "#pad sequence to a fixed length\n",
        "max_len=100\n",
        "X_train=pad_sequences(X_train,maxlen=max_len)\n",
        "X_test=pad_sequences(X_test,maxlen=max_len)"
      ],
      "metadata": {
        "id": "uEEdxtD88ZU4"
      },
      "execution_count": 3,
      "outputs": []
    },
    {
      "cell_type": "code",
      "source": [
        "#Encoded lebels\n",
        "y_train=to_categorical(y_train,num_classes=46)\n",
        "y_test=to_categorical(y_test,num_classes=46)"
      ],
      "metadata": {
        "id": "RbGR4AzM8ZXf"
      },
      "execution_count": 4,
      "outputs": []
    },
    {
      "cell_type": "code",
      "source": [
        "#Split the training and validation sets\n",
        "X_train,X_val,y_train,y_val=train_test_split(X_train,y_train,test_size=0.2,random_state=42)"
      ],
      "metadata": {
        "id": "0njcZ2mC9Jeo"
      },
      "execution_count": 5,
      "outputs": []
    },
    {
      "cell_type": "code",
      "source": [
        "#define a deep neural network\n",
        "model=Sequential()\n",
        "model.add(Embedding(max_words,128,input_length=max_len))\n",
        "model.add(LSTM(64,dropout=0.2,recurrent_dropout=0.2))\n",
        "model.add(Dense(46,activation='softmax'))"
      ],
      "metadata": {
        "id": "9eXsXJIX9JjP"
      },
      "execution_count": 7,
      "outputs": []
    },
    {
      "cell_type": "code",
      "source": [
        "#compile the model\n",
        "model.compile(optimizer='adam',loss='categorical_crossentropy',metrics=['accuracy'])"
      ],
      "metadata": {
        "id": "8T8h5hCs8Zaf"
      },
      "execution_count": 8,
      "outputs": []
    },
    {
      "cell_type": "code",
      "source": [
        "epochs=5\n",
        "batch_size=32\n",
        "model.fit(X_train,y_train,validation_data=(X_val,y_val),epochs=epochs,batch_size=batch_size)"
      ],
      "metadata": {
        "colab": {
          "base_uri": "https://localhost:8080/"
        },
        "id": "n-RBJuUL_Vlp",
        "outputId": "2f72cd0e-fb41-4596-893f-6b806854ba5a"
      },
      "execution_count": 10,
      "outputs": [
        {
          "output_type": "stream",
          "name": "stdout",
          "text": [
            "Epoch 1/5\n",
            "225/225 [==============================] - 48s 199ms/step - loss: 2.3186 - accuracy: 0.4381 - val_loss: 1.9889 - val_accuracy: 0.5125\n",
            "Epoch 2/5\n",
            "225/225 [==============================] - 40s 176ms/step - loss: 1.8489 - accuracy: 0.5219 - val_loss: 1.7178 - val_accuracy: 0.5576\n",
            "Epoch 3/5\n",
            "225/225 [==============================] - 45s 200ms/step - loss: 1.6145 - accuracy: 0.5903 - val_loss: 1.6315 - val_accuracy: 0.5520\n",
            "Epoch 4/5\n",
            "225/225 [==============================] - 40s 179ms/step - loss: 1.3755 - accuracy: 0.6459 - val_loss: 1.4628 - val_accuracy: 0.6344\n",
            "Epoch 5/5\n",
            "225/225 [==============================] - 42s 185ms/step - loss: 1.1453 - accuracy: 0.7059 - val_loss: 1.4153 - val_accuracy: 0.6311\n"
          ]
        },
        {
          "output_type": "execute_result",
          "data": {
            "text/plain": [
              "<keras.src.callbacks.History at 0x7ed0af97e740>"
            ]
          },
          "metadata": {},
          "execution_count": 10
        }
      ]
    },
    {
      "cell_type": "code",
      "source": [
        "#evaluate the model\n",
        "loss, accuracy = model.evaluate(X_test, y_test)\n",
        "print(f\"Test Loss: {loss:.4f}, Test Accuracy: {accuracy:.4f}\")"
      ],
      "metadata": {
        "colab": {
          "base_uri": "https://localhost:8080/"
        },
        "id": "QUt5oex3AOxC",
        "outputId": "f48e9086-3ea5-4993-a9b8-d96b9cdf0303"
      },
      "execution_count": 11,
      "outputs": [
        {
          "output_type": "stream",
          "name": "stdout",
          "text": [
            "71/71 [==============================] - 2s 21ms/step - loss: 1.4874 - accuracy: 0.6184\n",
            "Test Loss: 1.4874, Test Accuracy: 0.6184\n"
          ]
        }
      ]
    }
  ]
}