{
  "nbformat": 4,
  "nbformat_minor": 0,
  "metadata": {
    "colab": {
      "provenance": [],
      "authorship_tag": "ABX9TyMsNRX2vd2SNxiNXi6WZjO5",
      "include_colab_link": true
    },
    "kernelspec": {
      "name": "python3",
      "display_name": "Python 3"
    },
    "language_info": {
      "name": "python"
    }
  },
  "cells": [
    {
      "cell_type": "markdown",
      "metadata": {
        "id": "view-in-github",
        "colab_type": "text"
      },
      "source": [
        "<a href=\"https://colab.research.google.com/github/rajucherry03/Deep_Learning/blob/main/Copy_of_Exp7.ipynb\" target=\"_parent\"><img src=\"https://colab.research.google.com/assets/colab-badge.svg\" alt=\"Open In Colab\"/></a>"
      ]
    },
    {
      "cell_type": "code",
      "execution_count": null,
      "metadata": {
        "id": "C6vORae6FB_h"
      },
      "outputs": [],
      "source": [
        "import numpy as np\n",
        "from tensorflow.keras.datasets import mnist\n",
        "from tensorflow.keras.models import Sequential\n",
        "from tensorflow.keras.layers import Conv2D, MaxPooling2D, Flatten, Dense\n",
        "from tensorflow.keras.utils import to_categorical\n",
        "from sklearn.model_selection import train_test_split"
      ]
    },
    {
      "cell_type": "code",
      "source": [
        "# Load the MNIST dataset\n",
        "(X_train, y_train), (X_test, y_test) = mnist.load_data()"
      ],
      "metadata": {
        "colab": {
          "base_uri": "https://localhost:8080/"
        },
        "id": "HMjZ1V1gFIfu",
        "outputId": "aaf4bee5-586e-481a-b9ac-2cf6ced31642"
      },
      "execution_count": null,
      "outputs": [
        {
          "output_type": "stream",
          "name": "stdout",
          "text": [
            "Downloading data from https://storage.googleapis.com/tensorflow/tf-keras-datasets/mnist.npz\n",
            "11490434/11490434 [==============================] - 0s 0us/step\n"
          ]
        }
      ]
    },
    {
      "cell_type": "code",
      "source": [
        "# Normalize pixel values to be between 0 and 1\n",
        "X_train = X_train.astype('float32') / 255.0\n",
        "X_test = X_test.astype('float32') / 255.0"
      ],
      "metadata": {
        "id": "VzGE6tPcFIiF"
      },
      "execution_count": null,
      "outputs": []
    },
    {
      "cell_type": "code",
      "source": [
        "#Reshape the data to add a channel dimension\n",
        "X_train = np.expand_dims(X_train, axis=-1)\n",
        "X_test = np.expand_dims(X_test, axis=-1)"
      ],
      "metadata": {
        "id": "EeA8encDFIkl"
      },
      "execution_count": null,
      "outputs": []
    },
    {
      "cell_type": "code",
      "source": [
        "# One-hot encode the labels\n",
        "y_train = to_categorical(y_train, 10) # 10 classes (digits 0 through 9)\n",
        "y_test = to_categorical(y_test, 10)"
      ],
      "metadata": {
        "id": "rLenX4icFdDo"
      },
      "execution_count": null,
      "outputs": []
    },
    {
      "cell_type": "code",
      "source": [
        "#Split the training data into training and validation sets\n",
        "X_train, X_val, y_train, y_val = train_test_split(X_train, y_train, test_size=0.2, random_state=42)"
      ],
      "metadata": {
        "id": "Di65obw0FdFo"
      },
      "execution_count": null,
      "outputs": []
    },
    {
      "cell_type": "code",
      "source": [
        "# Define the CNN model\n",
        "model = Sequential()\n",
        "model.add(Conv2D(32, kernel_size=(3, 3), activation='relu', input_shape=(28, 28, 1)))\n",
        "model.add(MaxPooling2D(pool_size=(2, 2)))\n",
        "model.add(Conv2D(64, kernel_size=(3, 3), activation='relu'))\n",
        "model.add(MaxPooling2D(pool_size=(2, 2)))\n",
        "model.add(Flatten())\n",
        "model.add(Dense(128, activation='relu'))\n",
        "model.add(Dense(10, activation='softmax'))"
      ],
      "metadata": {
        "id": "t89FTjSQFdH1"
      },
      "execution_count": null,
      "outputs": []
    },
    {
      "cell_type": "code",
      "source": [
        "# Model compilation\n",
        "model.compile(optimizer='adam', loss='categorical_crossentropy', metrics=['accuracy'])"
      ],
      "metadata": {
        "id": "XKtDFJsvFpU_"
      },
      "execution_count": null,
      "outputs": []
    },
    {
      "cell_type": "code",
      "source": [
        "# Trainig the model\n",
        "#epoch is the number of passes a training dataset takes around an algorithm\n",
        "epochs = 10\n",
        "batch_size = 128\n",
        "model.fit(X_train, y_train, validation_data=(X_val, y_val), epochs=epochs, batch_size=batch_size)"
      ],
      "metadata": {
        "colab": {
          "base_uri": "https://localhost:8080/"
        },
        "id": "AcdjSaplFpXO",
        "outputId": "7aad2490-6306-4375-821c-5063738ffe55"
      },
      "execution_count": null,
      "outputs": [
        {
          "output_type": "stream",
          "name": "stdout",
          "text": [
            "Epoch 1/10\n",
            "375/375 [==============================] - 42s 109ms/step - loss: 0.2286 - accuracy: 0.9335 - val_loss: 0.0750 - val_accuracy: 0.9778\n",
            "Epoch 2/10\n",
            "375/375 [==============================] - 40s 106ms/step - loss: 0.0619 - accuracy: 0.9812 - val_loss: 0.0531 - val_accuracy: 0.9837\n",
            "Epoch 3/10\n",
            "375/375 [==============================] - 47s 125ms/step - loss: 0.0427 - accuracy: 0.9866 - val_loss: 0.0527 - val_accuracy: 0.9837\n",
            "Epoch 4/10\n",
            "375/375 [==============================] - 44s 118ms/step - loss: 0.0324 - accuracy: 0.9900 - val_loss: 0.0380 - val_accuracy: 0.9889\n",
            "Epoch 5/10\n",
            "375/375 [==============================] - 45s 121ms/step - loss: 0.0260 - accuracy: 0.9918 - val_loss: 0.0393 - val_accuracy: 0.9884\n",
            "Epoch 6/10\n",
            "375/375 [==============================] - 42s 112ms/step - loss: 0.0196 - accuracy: 0.9937 - val_loss: 0.0409 - val_accuracy: 0.9872\n",
            "Epoch 7/10\n",
            "375/375 [==============================] - 43s 114ms/step - loss: 0.0154 - accuracy: 0.9949 - val_loss: 0.0394 - val_accuracy: 0.9894\n",
            "Epoch 8/10\n",
            "375/375 [==============================] - 43s 115ms/step - loss: 0.0132 - accuracy: 0.9960 - val_loss: 0.0359 - val_accuracy: 0.9887\n",
            "Epoch 9/10\n",
            "375/375 [==============================] - 41s 109ms/step - loss: 0.0114 - accuracy: 0.9964 - val_loss: 0.0464 - val_accuracy: 0.9871\n",
            "Epoch 10/10\n",
            "375/375 [==============================] - 40s 106ms/step - loss: 0.0101 - accuracy: 0.9968 - val_loss: 0.0334 - val_accuracy: 0.9910\n"
          ]
        },
        {
          "output_type": "execute_result",
          "data": {
            "text/plain": [
              "<keras.src.callbacks.History at 0x7c2d8dca28c0>"
            ]
          },
          "metadata": {},
          "execution_count": 9
        }
      ]
    },
    {
      "cell_type": "code",
      "source": [
        "#Evaluationg the model\n",
        "loss, accuracy = model.evaluate(X_test, y_test)\n",
        "print(f\"Test Loss: {loss:.4f}, Test Accuracy: {accuracy:.4f}\")"
      ],
      "metadata": {
        "colab": {
          "base_uri": "https://localhost:8080/"
        },
        "id": "ggs_GCJOF0d7",
        "outputId": "5c180fd2-44e7-4559-a662-a7001a35ebb1"
      },
      "execution_count": null,
      "outputs": [
        {
          "output_type": "stream",
          "name": "stdout",
          "text": [
            "313/313 [==============================] - 4s 12ms/step - loss: 0.0340 - accuracy: 0.9901\n",
            "Test Loss: 0.0340, Test Accuracy: 0.9901\n"
          ]
        }
      ]
    }
  ]
}